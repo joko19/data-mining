{
 "cells": [
  {
   "cell_type": "markdown",
   "id": "signal-blood",
   "metadata": {},
   "source": [
    "Praktikum Klasifikasi dengan NB"
   ]
  },
  {
   "cell_type": "code",
   "execution_count": 1,
   "id": "outside-accounting",
   "metadata": {},
   "outputs": [],
   "source": [
    "import pandas as pd\n",
    "import numpy as np\n",
    "colnames =['preg','plas','pres','skin','test', 'mass', 'pedi','age','class']\n",
    "df=pd.read_csv('D:\\Dataset\\kaggle\\diabetes.csv',names=colnames)"
   ]
  },
  {
   "cell_type": "code",
   "execution_count": 2,
   "id": "respiratory-forwarding",
   "metadata": {},
   "outputs": [
    {
     "data": {
      "text/html": [
       "<div>\n",
       "<style scoped>\n",
       "    .dataframe tbody tr th:only-of-type {\n",
       "        vertical-align: middle;\n",
       "    }\n",
       "\n",
       "    .dataframe tbody tr th {\n",
       "        vertical-align: top;\n",
       "    }\n",
       "\n",
       "    .dataframe thead th {\n",
       "        text-align: right;\n",
       "    }\n",
       "</style>\n",
       "<table border=\"1\" class=\"dataframe\">\n",
       "  <thead>\n",
       "    <tr style=\"text-align: right;\">\n",
       "      <th></th>\n",
       "      <th>preg</th>\n",
       "      <th>plas</th>\n",
       "      <th>pres</th>\n",
       "      <th>skin</th>\n",
       "      <th>test</th>\n",
       "      <th>mass</th>\n",
       "      <th>pedi</th>\n",
       "      <th>age</th>\n",
       "      <th>class</th>\n",
       "    </tr>\n",
       "  </thead>\n",
       "  <tbody>\n",
       "    <tr>\n",
       "      <th>0</th>\n",
       "      <td>6</td>\n",
       "      <td>148</td>\n",
       "      <td>72</td>\n",
       "      <td>35</td>\n",
       "      <td>0</td>\n",
       "      <td>33.6</td>\n",
       "      <td>0.627</td>\n",
       "      <td>50</td>\n",
       "      <td>1</td>\n",
       "    </tr>\n",
       "    <tr>\n",
       "      <th>1</th>\n",
       "      <td>1</td>\n",
       "      <td>85</td>\n",
       "      <td>66</td>\n",
       "      <td>29</td>\n",
       "      <td>0</td>\n",
       "      <td>26.6</td>\n",
       "      <td>0.351</td>\n",
       "      <td>31</td>\n",
       "      <td>0</td>\n",
       "    </tr>\n",
       "    <tr>\n",
       "      <th>2</th>\n",
       "      <td>8</td>\n",
       "      <td>183</td>\n",
       "      <td>64</td>\n",
       "      <td>0</td>\n",
       "      <td>0</td>\n",
       "      <td>23.3</td>\n",
       "      <td>0.672</td>\n",
       "      <td>32</td>\n",
       "      <td>1</td>\n",
       "    </tr>\n",
       "    <tr>\n",
       "      <th>3</th>\n",
       "      <td>1</td>\n",
       "      <td>89</td>\n",
       "      <td>66</td>\n",
       "      <td>23</td>\n",
       "      <td>94</td>\n",
       "      <td>28.1</td>\n",
       "      <td>0.167</td>\n",
       "      <td>21</td>\n",
       "      <td>0</td>\n",
       "    </tr>\n",
       "    <tr>\n",
       "      <th>4</th>\n",
       "      <td>0</td>\n",
       "      <td>137</td>\n",
       "      <td>40</td>\n",
       "      <td>35</td>\n",
       "      <td>168</td>\n",
       "      <td>43.1</td>\n",
       "      <td>2.288</td>\n",
       "      <td>33</td>\n",
       "      <td>1</td>\n",
       "    </tr>\n",
       "  </tbody>\n",
       "</table>\n",
       "</div>"
      ],
      "text/plain": [
       "   preg  plas  pres  skin  test  mass   pedi  age  class\n",
       "0     6   148    72    35     0  33.6  0.627   50      1\n",
       "1     1    85    66    29     0  26.6  0.351   31      0\n",
       "2     8   183    64     0     0  23.3  0.672   32      1\n",
       "3     1    89    66    23    94  28.1  0.167   21      0\n",
       "4     0   137    40    35   168  43.1  2.288   33      1"
      ]
     },
     "execution_count": 2,
     "metadata": {},
     "output_type": "execute_result"
    }
   ],
   "source": [
    "df.head()"
   ]
  },
  {
   "cell_type": "code",
   "execution_count": 8,
   "id": "personalized-charge",
   "metadata": {},
   "outputs": [],
   "source": [
    "from sklearn.naive_bayes import GaussianNB\n",
    "from sklearn.model_selection import cross_validate,cross_val_score\n",
    "model=GaussianNB()\n",
    "X=df.drop('class',axis=1)\n",
    "y=df['class']\n",
    "cv_score1=cross_validate(model,X,y,cv=10, return_train_score=True)\n",
    "cv_score2=cross_val_score(model,X,y,cv=10)"
   ]
  },
  {
   "cell_type": "code",
   "execution_count": 9,
   "id": "aging-facing",
   "metadata": {},
   "outputs": [
    {
     "name": "stdout",
     "output_type": "stream",
     "text": [
      "0.7621523217586976 0.7564935064935066\n"
     ]
    }
   ],
   "source": [
    "print (cv_score1['train_score'].mean(), cv_score1['test_score'].mean())"
   ]
  },
  {
   "cell_type": "code",
   "execution_count": 10,
   "id": "portuguese-house",
   "metadata": {},
   "outputs": [
    {
     "name": "stdout",
     "output_type": "stream",
     "text": [
      "0.7564935064935066\n"
     ]
    }
   ],
   "source": [
    "print(cv_score2.mean()) #test_score"
   ]
  },
  {
   "cell_type": "code",
   "execution_count": 21,
   "id": "fuzzy-lying",
   "metadata": {},
   "outputs": [
    {
     "name": "stdout",
     "output_type": "stream",
     "text": [
      "Fitting 30 folds for each of 100 candidates, totalling 3000 fits\n",
      "{'var_smoothing': 1.232846739442066e-06} 0.7607997265892003\n"
     ]
    }
   ],
   "source": [
    "#Tuning Hyperparameter\n",
    "from sklearn.model_selection import RepeatedStratifiedKFold\n",
    "cv_method = RepeatedStratifiedKFold(n_splits=10,  n_repeats=3, random_state=999)\n",
    "param_grid_nb = {'var_smoothing': np.logspace(0,-9, num=100)}\n",
    "\n",
    "from sklearn.model_selection import GridSearchCV\n",
    "gs_NB = GridSearchCV(estimator=model, param_grid=param_grid_nb, cv=cv_method,verbose=1,scoring='accuracy')\n",
    "gs_NB.fit(X,y)\n",
    "print(gs_NB.best_params_,gs_NB.best_score_)"
   ]
  },
  {
   "cell_type": "code",
   "execution_count": null,
   "id": "contained-bread",
   "metadata": {},
   "outputs": [],
   "source": []
  }
 ],
 "metadata": {
  "kernelspec": {
   "display_name": "Python 3",
   "language": "python",
   "name": "python3"
  },
  "language_info": {
   "codemirror_mode": {
    "name": "ipython",
    "version": 3
   },
   "file_extension": ".py",
   "mimetype": "text/x-python",
   "name": "python",
   "nbconvert_exporter": "python",
   "pygments_lexer": "ipython3",
   "version": "3.9.2"
  }
 },
 "nbformat": 4,
 "nbformat_minor": 5
}
