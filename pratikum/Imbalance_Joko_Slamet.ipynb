{
 "cells": [
  {
   "cell_type": "markdown",
   "metadata": {},
   "source": [
    "# Praktikum Imbalanced Class"
   ]
  },
  {
   "cell_type": "code",
   "execution_count": 48,
   "metadata": {},
   "outputs": [],
   "source": [
    "import pandas as pd\n",
    "import numpy as np\n",
    "from sklearn.metrics import classification_report, roc_curve, auc, f1_score, accuracy_score,confusion_matrix\n",
    "colnames =['ID', 'Class', 'Gender (X1)', 'Status IMT (X2)', 'Berkacamata (X3)', 'Pernah Sakit (X4)', 'Gangguan Psikis (X5)', 'Aktif Bertanya (X6)','Aktif Menjawab (X7)', 'Mengerjakan Tugas (X8)', 'Tertarik Materi (X9)', 'Alokasi Jam Belajar (X10)', 'Memiliki Referensi Tambahan (X11)', 'Browsing dan Youtube (X12)', 'Mengulang Materi (X13)', 'Praktek Mandiri (X14)', 'Berdiskusi (X15)', 'Memiliki HP (X16)', 'Memiliki Laptop (X17)', 'Kecukupan Kuota (X18)', 'Dukungan Suasana rumah (X19)', 'PLN (X20)', 'Lokasi (X21)', 'Ketersediaan Sinyal (X22)']\n",
    "df=pd.read_csv('../resource/academic.csv',names=colnames)"
   ]
  },
  {
   "cell_type": "code",
   "execution_count": 49,
   "metadata": {},
   "outputs": [
    {
     "data": {
      "text/html": [
       "<div>\n",
       "<style scoped>\n",
       "    .dataframe tbody tr th:only-of-type {\n",
       "        vertical-align: middle;\n",
       "    }\n",
       "\n",
       "    .dataframe tbody tr th {\n",
       "        vertical-align: top;\n",
       "    }\n",
       "\n",
       "    .dataframe thead th {\n",
       "        text-align: right;\n",
       "    }\n",
       "</style>\n",
       "<table border=\"1\" class=\"dataframe\">\n",
       "  <thead>\n",
       "    <tr style=\"text-align: right;\">\n",
       "      <th></th>\n",
       "      <th>ID</th>\n",
       "      <th>Class</th>\n",
       "      <th>Gender (X1)</th>\n",
       "      <th>Status IMT (X2)</th>\n",
       "      <th>Berkacamata (X3)</th>\n",
       "      <th>Pernah Sakit (X4)</th>\n",
       "      <th>Gangguan Psikis (X5)</th>\n",
       "      <th>Aktif Bertanya (X6)</th>\n",
       "      <th>Aktif Menjawab (X7)</th>\n",
       "      <th>Mengerjakan Tugas (X8)</th>\n",
       "      <th>...</th>\n",
       "      <th>Mengulang Materi (X13)</th>\n",
       "      <th>Praktek Mandiri (X14)</th>\n",
       "      <th>Berdiskusi (X15)</th>\n",
       "      <th>Memiliki HP (X16)</th>\n",
       "      <th>Memiliki Laptop (X17)</th>\n",
       "      <th>Kecukupan Kuota (X18)</th>\n",
       "      <th>Dukungan Suasana rumah (X19)</th>\n",
       "      <th>PLN (X20)</th>\n",
       "      <th>Lokasi (X21)</th>\n",
       "      <th>Ketersediaan Sinyal (X22)</th>\n",
       "    </tr>\n",
       "  </thead>\n",
       "  <tbody>\n",
       "    <tr>\n",
       "      <th>0</th>\n",
       "      <td>1</td>\n",
       "      <td>0</td>\n",
       "      <td>P</td>\n",
       "      <td>NORMAL</td>\n",
       "      <td>Tidak</td>\n",
       "      <td>Tidak</td>\n",
       "      <td>Tidak</td>\n",
       "      <td>Ya</td>\n",
       "      <td>Ya</td>\n",
       "      <td>Semua</td>\n",
       "      <td>...</td>\n",
       "      <td>Kadang-kadang</td>\n",
       "      <td>Kadang-kadang</td>\n",
       "      <td>Ya</td>\n",
       "      <td>Ya</td>\n",
       "      <td>Ya</td>\n",
       "      <td>Tidak</td>\n",
       "      <td>Kadang-kadang</td>\n",
       "      <td>Ya</td>\n",
       "      <td>Pedesaan</td>\n",
       "      <td>Sebagian</td>\n",
       "    </tr>\n",
       "    <tr>\n",
       "      <th>1</th>\n",
       "      <td>2</td>\n",
       "      <td>2</td>\n",
       "      <td>L</td>\n",
       "      <td>GEMUK</td>\n",
       "      <td>Ya</td>\n",
       "      <td>Tidak</td>\n",
       "      <td>Tidak</td>\n",
       "      <td>Tidak</td>\n",
       "      <td>Tidak</td>\n",
       "      <td>Semua</td>\n",
       "      <td>...</td>\n",
       "      <td>Kadang-kadang</td>\n",
       "      <td>Kadang-kadang</td>\n",
       "      <td>Tidak</td>\n",
       "      <td>Ya</td>\n",
       "      <td>Ya</td>\n",
       "      <td>Ya</td>\n",
       "      <td>Ya</td>\n",
       "      <td>Ya</td>\n",
       "      <td>Perkotaan</td>\n",
       "      <td>Ya</td>\n",
       "    </tr>\n",
       "    <tr>\n",
       "      <th>2</th>\n",
       "      <td>3</td>\n",
       "      <td>2</td>\n",
       "      <td>P</td>\n",
       "      <td>NORMAL</td>\n",
       "      <td>Ya</td>\n",
       "      <td>Tidak</td>\n",
       "      <td>Tidak</td>\n",
       "      <td>Tidak</td>\n",
       "      <td>Tidak</td>\n",
       "      <td>Semua</td>\n",
       "      <td>...</td>\n",
       "      <td>Kadang-kadang</td>\n",
       "      <td>Kadang-kadang</td>\n",
       "      <td>Ya</td>\n",
       "      <td>Ya</td>\n",
       "      <td>Ya</td>\n",
       "      <td>Ya</td>\n",
       "      <td>Ya</td>\n",
       "      <td>Ya</td>\n",
       "      <td>Perkotaan</td>\n",
       "      <td>Sebagian</td>\n",
       "    </tr>\n",
       "    <tr>\n",
       "      <th>3</th>\n",
       "      <td>4</td>\n",
       "      <td>2</td>\n",
       "      <td>P</td>\n",
       "      <td>NORMAL</td>\n",
       "      <td>Tidak</td>\n",
       "      <td>Ya</td>\n",
       "      <td>Tidak</td>\n",
       "      <td>Tidak</td>\n",
       "      <td>Tidak</td>\n",
       "      <td>Semua</td>\n",
       "      <td>...</td>\n",
       "      <td>Kadang-kadang</td>\n",
       "      <td>Ya</td>\n",
       "      <td>Ya</td>\n",
       "      <td>Ya</td>\n",
       "      <td>Ya</td>\n",
       "      <td>Ya</td>\n",
       "      <td>Kadang-kadang</td>\n",
       "      <td>Ya</td>\n",
       "      <td>Perkotaan</td>\n",
       "      <td>Ya</td>\n",
       "    </tr>\n",
       "    <tr>\n",
       "      <th>4</th>\n",
       "      <td>5</td>\n",
       "      <td>0</td>\n",
       "      <td>P</td>\n",
       "      <td>NORMAL</td>\n",
       "      <td>Tidak</td>\n",
       "      <td>Ya</td>\n",
       "      <td>Ya</td>\n",
       "      <td>Ya</td>\n",
       "      <td>Ya</td>\n",
       "      <td>Semua</td>\n",
       "      <td>...</td>\n",
       "      <td>Kadang-kadang</td>\n",
       "      <td>Kadang-kadang</td>\n",
       "      <td>Ya</td>\n",
       "      <td>Ya</td>\n",
       "      <td>Ya</td>\n",
       "      <td>Kadang-kadang</td>\n",
       "      <td>Ya</td>\n",
       "      <td>Ya</td>\n",
       "      <td>Perkotaan</td>\n",
       "      <td>Sebagian</td>\n",
       "    </tr>\n",
       "  </tbody>\n",
       "</table>\n",
       "<p>5 rows × 24 columns</p>\n",
       "</div>"
      ],
      "text/plain": [
       "   ID  Class Gender (X1) Status IMT (X2) Berkacamata (X3) Pernah Sakit (X4)  \\\n",
       "0   1      0           P          NORMAL            Tidak             Tidak   \n",
       "1   2      2           L           GEMUK               Ya             Tidak   \n",
       "2   3      2           P          NORMAL               Ya             Tidak   \n",
       "3   4      2           P          NORMAL            Tidak                Ya   \n",
       "4   5      0           P          NORMAL            Tidak                Ya   \n",
       "\n",
       "  Gangguan Psikis (X5) Aktif Bertanya (X6) Aktif Menjawab (X7)  \\\n",
       "0                Tidak                  Ya                  Ya   \n",
       "1                Tidak               Tidak               Tidak   \n",
       "2                Tidak               Tidak               Tidak   \n",
       "3                Tidak               Tidak               Tidak   \n",
       "4                   Ya                  Ya                  Ya   \n",
       "\n",
       "  Mengerjakan Tugas (X8)  ... Mengulang Materi (X13) Praktek Mandiri (X14)  \\\n",
       "0                  Semua  ...          Kadang-kadang         Kadang-kadang   \n",
       "1                  Semua  ...          Kadang-kadang         Kadang-kadang   \n",
       "2                  Semua  ...          Kadang-kadang         Kadang-kadang   \n",
       "3                  Semua  ...          Kadang-kadang                    Ya   \n",
       "4                  Semua  ...          Kadang-kadang         Kadang-kadang   \n",
       "\n",
       "  Berdiskusi (X15) Memiliki HP (X16) Memiliki Laptop (X17)  \\\n",
       "0               Ya                Ya                    Ya   \n",
       "1            Tidak                Ya                    Ya   \n",
       "2               Ya                Ya                    Ya   \n",
       "3               Ya                Ya                    Ya   \n",
       "4               Ya                Ya                    Ya   \n",
       "\n",
       "  Kecukupan Kuota (X18) Dukungan Suasana rumah (X19) PLN (X20) Lokasi (X21)  \\\n",
       "0                 Tidak                Kadang-kadang        Ya     Pedesaan   \n",
       "1                    Ya                           Ya        Ya    Perkotaan   \n",
       "2                    Ya                           Ya        Ya    Perkotaan   \n",
       "3                    Ya                Kadang-kadang        Ya    Perkotaan   \n",
       "4         Kadang-kadang                           Ya        Ya    Perkotaan   \n",
       "\n",
       "  Ketersediaan Sinyal (X22)  \n",
       "0                  Sebagian  \n",
       "1                        Ya  \n",
       "2                  Sebagian  \n",
       "3                        Ya  \n",
       "4                  Sebagian  \n",
       "\n",
       "[5 rows x 24 columns]"
      ]
     },
     "execution_count": 49,
     "metadata": {},
     "output_type": "execute_result"
    }
   ],
   "source": [
    "df.head()"
   ]
  },
  {
   "cell_type": "code",
   "execution_count": 50,
   "metadata": {},
   "outputs": [
    {
     "name": "stdout",
     "output_type": "stream",
     "text": [
      "    ID  Class  Gender (X1)_L  Gender (X1)_P  Status IMT (X2)_GEMUK  \\\n",
      "0    1      0              0              1                      0   \n",
      "1    2      2              1              0                      1   \n",
      "2    3      2              0              1                      0   \n",
      "3    4      2              0              1                      0   \n",
      "4    5      0              0              1                      0   \n",
      "..  ..    ...            ...            ...                    ...   \n",
      "86  87      1              1              0                      0   \n",
      "87  88      2              1              0                      0   \n",
      "88  89      0              1              0                      0   \n",
      "89  90      1              1              0                      0   \n",
      "90  91      2              1              0                      0   \n",
      "\n",
      "    Status IMT (X2)_KURUS  Status IMT (X2)_NORMAL  Status IMT (X2)_OBESITAS  \\\n",
      "0                       0                       1                         0   \n",
      "1                       0                       0                         0   \n",
      "2                       0                       1                         0   \n",
      "3                       0                       1                         0   \n",
      "4                       0                       1                         0   \n",
      "..                    ...                     ...                       ...   \n",
      "86                      0                       1                         0   \n",
      "87                      0                       1                         0   \n",
      "88                      0                       0                         1   \n",
      "89                      0                       1                         0   \n",
      "90                      1                       0                         0   \n",
      "\n",
      "    Berkacamata (X3)_Tidak  Berkacamata (X3)_Ya  ...  \\\n",
      "0                        1                    0  ...   \n",
      "1                        0                    1  ...   \n",
      "2                        0                    1  ...   \n",
      "3                        1                    0  ...   \n",
      "4                        1                    0  ...   \n",
      "..                     ...                  ...  ...   \n",
      "86                       1                    0  ...   \n",
      "87                       1                    0  ...   \n",
      "88                       0                    1  ...   \n",
      "89                       1                    0  ...   \n",
      "90                       1                    0  ...   \n",
      "\n",
      "    Dukungan Suasana rumah (X19)_Tidak  Dukungan Suasana rumah (X19)_Ya  \\\n",
      "0                                    0                                0   \n",
      "1                                    0                                1   \n",
      "2                                    0                                1   \n",
      "3                                    0                                0   \n",
      "4                                    0                                1   \n",
      "..                                 ...                              ...   \n",
      "86                                   0                                1   \n",
      "87                                   0                                1   \n",
      "88                                   0                                0   \n",
      "89                                   0                                1   \n",
      "90                                   0                                0   \n",
      "\n",
      "    PLN (X20)_Tidak  PLN (X20)_Ya  Lokasi (X21)_Pedesaan  \\\n",
      "0                 0             1                      1   \n",
      "1                 0             1                      0   \n",
      "2                 0             1                      0   \n",
      "3                 0             1                      0   \n",
      "4                 0             1                      0   \n",
      "..              ...           ...                    ...   \n",
      "86                0             1                      1   \n",
      "87                0             1                      0   \n",
      "88                0             1                      0   \n",
      "89                0             1                      0   \n",
      "90                0             1                      1   \n",
      "\n",
      "    Lokasi (X21)_Perkotaan  Lokasi (X21)_Pesisir  \\\n",
      "0                        0                     0   \n",
      "1                        1                     0   \n",
      "2                        1                     0   \n",
      "3                        1                     0   \n",
      "4                        1                     0   \n",
      "..                     ...                   ...   \n",
      "86                       0                     0   \n",
      "87                       1                     0   \n",
      "88                       1                     0   \n",
      "89                       1                     0   \n",
      "90                       0                     0   \n",
      "\n",
      "    Ketersediaan Sinyal (X22)_Sebagian  Ketersediaan Sinyal (X22)_Tidak  \\\n",
      "0                                    1                                0   \n",
      "1                                    0                                0   \n",
      "2                                    1                                0   \n",
      "3                                    0                                0   \n",
      "4                                    1                                0   \n",
      "..                                 ...                              ...   \n",
      "86                                   1                                0   \n",
      "87                                   0                                0   \n",
      "88                                   1                                0   \n",
      "89                                   1                                0   \n",
      "90                                   1                                0   \n",
      "\n",
      "    Ketersediaan Sinyal (X22)_Ya  \n",
      "0                              0  \n",
      "1                              1  \n",
      "2                              0  \n",
      "3                              1  \n",
      "4                              0  \n",
      "..                           ...  \n",
      "86                             0  \n",
      "87                             1  \n",
      "88                             0  \n",
      "89                             0  \n",
      "90                             0  \n",
      "\n",
      "[91 rows x 55 columns]\n"
     ]
    }
   ],
   "source": [
    "col =['Gender (X1)', 'Status IMT (X2)', 'Berkacamata (X3)', 'Pernah Sakit (X4)', 'Gangguan Psikis (X5)', 'Aktif Bertanya (X6)','Aktif Menjawab (X7)', 'Mengerjakan Tugas (X8)', 'Tertarik Materi (X9)', 'Alokasi Jam Belajar (X10)', 'Memiliki Referensi Tambahan (X11)', 'Browsing dan Youtube (X12)', 'Mengulang Materi (X13)', 'Praktek Mandiri (X14)', 'Berdiskusi (X15)', 'Memiliki HP (X16)', 'Memiliki Laptop (X17)', 'Kecukupan Kuota (X18)', 'Dukungan Suasana rumah (X19)', 'PLN (X20)', 'Lokasi (X21)', 'Ketersediaan Sinyal (X22)']\n",
    "academic_df_dummies = pd.get_dummies(df, prefix=col)\n",
    "print(academic_df_dummies)\n",
    "\n",
    "X=academic_df_dummies.drop(['Class'],axis=1)\n",
    "y=academic_df_dummies['Class']\n"
   ]
  },
  {
   "cell_type": "code",
   "execution_count": 51,
   "metadata": {},
   "outputs": [
    {
     "data": {
      "text/plain": [
       "1    32\n",
       "0    29\n",
       "2    28\n",
       "3     2\n",
       "Name: Class, dtype: int64"
      ]
     },
     "execution_count": 51,
     "metadata": {},
     "output_type": "execute_result"
    }
   ],
   "source": [
    "#menghtung jumlah anggota tiap kelas\n",
    "y.value_counts()"
   ]
  },
  {
   "cell_type": "code",
   "execution_count": 52,
   "metadata": {},
   "outputs": [
    {
     "data": {
      "image/png": "[encoded data removed]",
      "text/plain": [
       "<Figure size 1152x648 with 1 Axes>"
      ]
     },
     "metadata": {
      "needs_background": "light"
     },
     "output_type": "display_data"
    },
    {
     "name": "stdout",
     "output_type": "stream",
     "text": [
      "The number of features in the new subspace is  3\n"
     ]
    }
   ],
   "source": [
    "from mpl_toolkits.mplot3d import Axes3D\n",
    "from sklearn.decomposition import PCA\n",
    "from matplotlib import pyplot as plt\n",
    "from sklearn.preprocessing import StandardScaler\n",
    "\n",
    "scaler = StandardScaler()\n",
    "X_scaled = scaler.fit_transform(X)\n",
    "fig = plt.figure(1, figsize=(16, 9))\n",
    "ax = Axes3D(fig, elev=-150, azim=110)\n",
    "X_reduced = PCA(n_components=3).fit_transform(X_scaled)\n",
    "ax.scatter(X_reduced[:, 0], X_reduced[:, 1], X_reduced[:, 2], c=y,\n",
    "           cmap=plt.cm.Set1, edgecolor='k', s=40)\n",
    "ax.set_title(\"First three PCA directions\")\n",
    "ax.set_xlabel(\"1st eigenvector\")\n",
    "ax.w_xaxis.set_ticklabels([])\n",
    "ax.set_ylabel(\"2nd eigenvector\")\n",
    "ax.w_yaxis.set_ticklabels([])\n",
    "ax.set_zlabel(\"3rd eigenvector\")\n",
    "ax.w_zaxis.set_ticklabels([])\n",
    "\n",
    "plt.show()\n",
    "print(\"The number of features in the new subspace is \" ,X_reduced.shape[1])"
   ]
  },
  {
   "cell_type": "code",
   "execution_count": 53,
   "metadata": {},
   "outputs": [],
   "source": [
    "# Split dataset into training set and test set\n",
    "# from sklearn.model_selection import train_test_split # Import train_test_split function\n",
    "# X_train, X_test, y_train, y_test = train_test_split(X, y, test_size=0.2, random_state=1) # 70% training and 30% test"
   ]
  },
  {
   "cell_type": "markdown",
   "metadata": {},
   "source": [
    "# Decision Tree"
   ]
  },
  {
   "cell_type": "code",
   "execution_count": 54,
   "metadata": {},
   "outputs": [
    {
     "name": "stdout",
     "output_type": "stream",
     "text": [
      "{'criterion': 'entropy', 'max_depth': 7, 'splitter': 'best'} 0.6272401433691756\n"
     ]
    }
   ],
   "source": [
    "from sklearn.tree import DecisionTreeClassifier # Import Decision Tree Classifier\n",
    "import sklearn.metrics as metrics\n",
    "import numpy as np\n",
    "from sklearn.model_selection import StratifiedKFold\n",
    "from sklearn.model_selection import GridSearchCV\n",
    "import warnings\n",
    "warnings.filterwarnings('ignore')\n",
    "skf = StratifiedKFold(n_splits = 3, shuffle=True, random_state=0)\n",
    "dt = DecisionTreeClassifier()\n",
    "params_dt = {'criterion': ['gini', 'entropy'], 'splitter': ['best', 'random'], 'max_depth': np.arange(0,15)}\n",
    "dt = GridSearchCV(dt, param_grid=params_dt, scoring='accuracy', cv=skf)\n",
    "dt = dt.fit(X,y)\n",
    "print(clf.best_params_, clf.best_score_)\n"
   ]
  },
  {
   "cell_type": "markdown",
   "metadata": {},
   "source": [
    "# KNN"
   ]
  },
  {
   "cell_type": "code",
   "execution_count": 55,
   "metadata": {},
   "outputs": [
    {
     "name": "stdout",
     "output_type": "stream",
     "text": [
      "{'algorithm': 'auto', 'n_neighbors': 2, 'weights': 'distance'} 0.5942652329749104\n"
     ]
    }
   ],
   "source": [
    "from sklearn.model_selection import GridSearchCV\n",
    "from sklearn.neighbors import KNeighborsClassifier\n",
    "knn = KNeighborsClassifier()\n",
    "params_knn = {'n_neighbors': np.arange(2, 61), 'weights': ['uniform', 'distance'], 'algorithm': ['auto', 'ball_tree', 'kd_tree', 'brute']}\n",
    "knn = GridSearchCV(knn, param_grid = params_knn, scoring='accuracy', cv = skf)\n",
    "knn.fit(X,y)\n",
    "print(knn.best_params_, knn.best_score_)"
   ]
  },
  {
   "cell_type": "markdown",
   "metadata": {},
   "source": [
    "# NB"
   ]
  },
  {
   "cell_type": "code",
   "execution_count": 56,
   "metadata": {},
   "outputs": [
    {
     "name": "stdout",
     "output_type": "stream",
     "text": [
      "{'var_smoothing': 0.00046415888336127773} 0.9010752688172042\n"
     ]
    }
   ],
   "source": [
    "from sklearn.naive_bayes import GaussianNB\n",
    "gnb = GaussianNB()\n",
    "gnb_params = {'var_smoothing': np.logspace(0, -15, 100)}\n",
    "gnb = GridSearchCV(gnb, param_grid=gnb_params, scoring='accuracy', cv = skf)\n",
    "gnb.fit(X, y)\n",
    "print(gnb.best_params_, gnb.best_score_)\n"
   ]
  },
  {
   "cell_type": "markdown",
   "metadata": {},
   "source": [
    "# SVM"
   ]
  },
  {
   "cell_type": "code",
   "execution_count": 57,
   "metadata": {},
   "outputs": [
    {
     "name": "stdout",
     "output_type": "stream",
     "text": [
      "{'C': 0.6078307435713777, 'gamma': 'auto', 'kernel': 'linear'} 0.6351254480286739\n"
     ]
    }
   ],
   "source": [
    "from sklearn.svm import SVC\n",
    "import warnings\n",
    "warnings.filterwarnings('ignore')\n",
    "svc = SVC()\n",
    "params_svc = {'C': np.logspace(start = -35, stop=100, base=1.05), 'kernel':['linear', 'poly', 'rbf', 'sigmoid'], 'gamma':['auto', 'scale']}\n",
    "svc = GridSearchCV(svc, param_grid=params_svc, scoring='accuracy', cv=3)\n",
    "svc.fit(X,y)\n",
    "print(svc.best_params_, svc.best_score_)"
   ]
  },
  {
   "cell_type": "markdown",
   "metadata": {},
   "source": [
    "# Random Forest"
   ]
  },
  {
   "cell_type": "code",
   "execution_count": 58,
   "metadata": {},
   "outputs": [
    {
     "name": "stdout",
     "output_type": "stream",
     "text": [
      "{'criterion': 'entropy', 'n_estimators': 64} 0.8243727598566308\n"
     ]
    }
   ],
   "source": [
    "from sklearn.ensemble import RandomForestClassifier\n",
    "rf = RandomForestClassifier()\n",
    "params_rf = {'n_estimators': np.arange(10, 100), 'criterion':['gini','entropy']}\n",
    "rf = GridSearchCV(rf, param_grid=params_rf, scoring='accuracy', cv=3)\n",
    "rf.fit(X,y)\n",
    "print(rf.best_params_, rf.best_score_)"
   ]
  },
  {
   "cell_type": "markdown",
   "metadata": {},
   "source": [
    "# Regresi Logistic"
   ]
  },
  {
   "cell_type": "code",
   "execution_count": 59,
   "metadata": {},
   "outputs": [
    {
     "name": "stdout",
     "output_type": "stream",
     "text": [
      "{'C': 0.24770763559917108, 'dual': False, 'penalty': 'l2'} 0.8799283154121863\n"
     ]
    }
   ],
   "source": [
    "from sklearn.linear_model import LogisticRegression\n",
    "rl = LogisticRegression()\n",
    "params_rl = {'penalty': ['l1', 'l2', 'elasticnet', 'none'], 'C': np.logspace(0, -15, 100), 'dual': [True, False]}\n",
    "rl = GridSearchCV(rl, param_grid=params_rl, scoring='accuracy', cv=skf)\n",
    "rl.fit(X,y)\n",
    "print(rl.best_params_, rl.best_score_)"
   ]
  },
  {
   "cell_type": "code",
   "execution_count": 60,
   "metadata": {},
   "outputs": [
    {
     "name": "stdout",
     "output_type": "stream",
     "text": [
      "Class=0, n=29 (31.868%)\n",
      "Class=2, n=28 (30.769%)\n",
      "Class=1, n=32 (35.165%)\n",
      "Class=3, n=2 (2.198%)\n"
     ]
    },
    {
     "data": {
      "image/png": "[encoded data removed]",
      "text/plain": [
       "<Figure size 432x288 with 1 Axes>"
      ]
     },
     "metadata": {
      "needs_background": "light"
     },
     "output_type": "display_data"
    }
   ],
   "source": [
    "import imblearn\n",
    "from imblearn.over_sampling import SMOTE\n",
    "from sklearn.preprocessing import LabelEncoder\n",
    "from collections import Counter\n",
    "from matplotlib import pyplot\n",
    "y = LabelEncoder().fit_transform(y)\n",
    "# summarize distribution\n",
    "counter = Counter(y)\n",
    "for k,v in counter.items():\n",
    "\tper = v / len(y) * 100\n",
    "\tprint('Class=%d, n=%d (%.3f%%)' % (k, v, per))\n",
    "# plot the distribution\n",
    "pyplot.bar(counter.keys(), counter.values())\n",
    "pyplot.show()"
   ]
  },
  {
   "cell_type": "code",
   "execution_count": 61,
   "metadata": {},
   "outputs": [
    {
     "name": "stdout",
     "output_type": "stream",
     "text": [
      "     ID  Gender (X1)_L  Gender (X1)_P  Status IMT (X2)_GEMUK  \\\n",
      "0     1              0              1                      0   \n",
      "1     2              1              0                      1   \n",
      "2     3              0              1                      0   \n",
      "3     4              0              1                      0   \n",
      "4     5              0              1                      0   \n",
      "..   ..            ...            ...                    ...   \n",
      "123  78              1              0                      0   \n",
      "124  78              1              0                      0   \n",
      "125  78              1              0                      0   \n",
      "126  78              1              0                      0   \n",
      "127  78              1              0                      0   \n",
      "\n",
      "     Status IMT (X2)_KURUS  Status IMT (X2)_NORMAL  Status IMT (X2)_OBESITAS  \\\n",
      "0                        0                       1                         0   \n",
      "1                        0                       0                         0   \n",
      "2                        0                       1                         0   \n",
      "3                        0                       1                         0   \n",
      "4                        0                       1                         0   \n",
      "..                     ...                     ...                       ...   \n",
      "123                      0                       1                         0   \n",
      "124                      0                       1                         0   \n",
      "125                      0                       1                         0   \n",
      "126                      0                       1                         0   \n",
      "127                      0                       1                         0   \n",
      "\n",
      "     Berkacamata (X3)_Tidak  Berkacamata (X3)_Ya  Pernah Sakit (X4)_Tidak  \\\n",
      "0                         1                    0                        1   \n",
      "1                         0                    1                        1   \n",
      "2                         0                    1                        1   \n",
      "3                         1                    0                        0   \n",
      "4                         1                    0                        0   \n",
      "..                      ...                  ...                      ...   \n",
      "123                       1                    0                        1   \n",
      "124                       1                    0                        1   \n",
      "125                       1                    0                        1   \n",
      "126                       1                    0                        1   \n",
      "127                       1                    0                        1   \n",
      "\n",
      "     ...  Dukungan Suasana rumah (X19)_Tidak  Dukungan Suasana rumah (X19)_Ya  \\\n",
      "0    ...                                   0                                0   \n",
      "1    ...                                   0                                1   \n",
      "2    ...                                   0                                1   \n",
      "3    ...                                   0                                0   \n",
      "4    ...                                   0                                1   \n",
      "..   ...                                 ...                              ...   \n",
      "123  ...                                   0                                0   \n",
      "124  ...                                   0                                0   \n",
      "125  ...                                   0                                0   \n",
      "126  ...                                   0                                0   \n",
      "127  ...                                   0                                0   \n",
      "\n",
      "     PLN (X20)_Tidak  PLN (X20)_Ya  Lokasi (X21)_Pedesaan  \\\n",
      "0                  0             1                      1   \n",
      "1                  0             1                      0   \n",
      "2                  0             1                      0   \n",
      "3                  0             1                      0   \n",
      "4                  0             1                      0   \n",
      "..               ...           ...                    ...   \n",
      "123                0             0                      1   \n",
      "124                0             0                      1   \n",
      "125                0             0                      1   \n",
      "126                0             0                      1   \n",
      "127                0             0                      1   \n",
      "\n",
      "     Lokasi (X21)_Perkotaan  Lokasi (X21)_Pesisir  \\\n",
      "0                         0                     0   \n",
      "1                         1                     0   \n",
      "2                         1                     0   \n",
      "3                         1                     0   \n",
      "4                         1                     0   \n",
      "..                      ...                   ...   \n",
      "123                       0                     0   \n",
      "124                       0                     0   \n",
      "125                       0                     0   \n",
      "126                       0                     0   \n",
      "127                       0                     0   \n",
      "\n",
      "     Ketersediaan Sinyal (X22)_Sebagian  Ketersediaan Sinyal (X22)_Tidak  \\\n",
      "0                                     1                                0   \n",
      "1                                     0                                0   \n",
      "2                                     1                                0   \n",
      "3                                     0                                0   \n",
      "4                                     1                                0   \n",
      "..                                  ...                              ...   \n",
      "123                                   0                                0   \n",
      "124                                   0                                0   \n",
      "125                                   0                                0   \n",
      "126                                   0                                0   \n",
      "127                                   0                                0   \n",
      "\n",
      "     Ketersediaan Sinyal (X22)_Ya  \n",
      "0                               0  \n",
      "1                               1  \n",
      "2                               0  \n",
      "3                               1  \n",
      "4                               0  \n",
      "..                            ...  \n",
      "123                             0  \n",
      "124                             0  \n",
      "125                             0  \n",
      "126                             0  \n",
      "127                             0  \n",
      "\n",
      "[128 rows x 54 columns] [0 2 2 2 0 0 1 2 1 1 2 2 2 0 2 0 0 0 1 2 1 0 0 0 1 2 1 1 1 0 0 0 0 1 1 1 1\n",
      " 1 2 0 2 1 1 2 0 1 2 2 1 0 1 2 0 1 0 1 2 1 2 1 0 1 1 1 2 0 0 1 2 2 2 0 0 0\n",
      " 2 2 2 3 3 1 0 1 0 0 2 1 1 2 0 1 2 0 0 0 2 2 2 2 3 3 3 3 3 3 3 3 3 3 3 3 3\n",
      " 3 3 3 3 3 3 3 3 3 3 3 3 3 3 3 3 3]\n",
      "Class=0, n=32 (25.000%)\n",
      "Class=2, n=32 (25.000%)\n",
      "Class=1, n=32 (25.000%)\n",
      "Class=3, n=32 (25.000%)\n"
     ]
    },
    {
     "data": {
      "image/png": "[encoded data removed]",
      "text/plain": [
       "<Figure size 432x288 with 1 Axes>"
      ]
     },
     "metadata": {
      "needs_background": "light"
     },
     "output_type": "display_data"
    }
   ],
   "source": [
    "\n",
    "# label encode the target variable\n",
    "y = LabelEncoder().fit_transform(y)\n",
    "oversample = SMOTE(k_neighbors=1)\n",
    "X, y = oversample.fit_resample(X, y)\n",
    "print(X,y)\n",
    "counter = Counter(y)\n",
    "for k,v in counter.items():\n",
    "\tper = v / len(y) * 100\n",
    "\tprint('Class=%d, n=%d (%.3f%%)' % (k, v, per))\n",
    "# plot the distribution\n",
    "pyplot.bar(counter.keys(), counter.values())\n",
    "pyplot.show()"
   ]
  },
  {
   "cell_type": "code",
   "execution_count": 62,
   "metadata": {},
   "outputs": [],
   "source": [
    "# Split dataset into training set and test set\n",
    "from sklearn.model_selection import train_test_split # Import train_test_split function\n",
    "X_train, X_test, y_train, y_test = train_test_split(X, y, test_size=0.2, random_state=1) # 70% training and 30% test"
   ]
  },
  {
   "cell_type": "code",
   "execution_count": 63,
   "metadata": {},
   "outputs": [
    {
     "name": "stdout",
     "output_type": "stream",
     "text": [
      "\n",
      "Classification report\n",
      "\n",
      "              precision    recall  f1-score   support\n",
      "\n",
      "           0       0.50      0.33      0.40         3\n",
      "           1       0.75      0.86      0.80         7\n",
      "           2       0.50      0.50      0.50         4\n",
      "           3       1.00      1.00      1.00        12\n",
      "\n",
      "    accuracy                           0.81        26\n",
      "   macro avg       0.69      0.67      0.68        26\n",
      "weighted avg       0.80      0.81      0.80        26\n",
      "\n",
      "\n",
      "Confusion Matrix\n",
      "\n",
      "[[ 1  0  2  0]\n",
      " [ 1  6  0  0]\n",
      " [ 0  2  2  0]\n",
      " [ 0  0  0 12]] \n",
      "\n",
      "Accuracy : 0.81\n",
      "F-Score : 0.80\n",
      "AUC: 0.09\n"
     ]
    }
   ],
   "source": [
    "from sklearn.tree import DecisionTreeClassifier # Import Decision Tree Classifier\n",
    "import sklearn.metrics as metrics\n",
    "# Create Decision Tree classifer object\n",
    "clf = DecisionTreeClassifier()\n",
    "# Train Decision Tree Classifer\n",
    "clf = clf.fit(X_train,y_train)\n",
    "#Predict the response for test dataset\n",
    "y_pred = clf.predict(X_test)\n",
    "print( '\\nClassification report\\n' )\n",
    "print(classification_report(y_test, y_pred))\n",
    "print( '\\nConfusion Matrix\\n' )\n",
    "print(confusion_matrix(y_test, y_pred),'\\n')\n",
    "print('Accuracy :','{:.2f}'.format(accuracy_score(y_test, y_pred)))\n",
    "print('F-Score :','{:.2f}'.format(f1_score(y_test, y_pred, average='weighted')))\n",
    "fpr, tpr, thresholds = metrics.roc_curve(y_test, y_pred, pos_label=1)\n",
    "print('AUC:','{:.2f}'.format(metrics.auc(fpr, tpr)))\n"
   ]
  },
  {
   "cell_type": "code",
   "execution_count": 64,
   "metadata": {},
   "outputs": [
    {
     "name": "stdout",
     "output_type": "stream",
     "text": [
      "\n",
      "Classification report\n",
      "\n",
      "              precision    recall  f1-score   support\n",
      "\n",
      "           0       0.17      0.33      0.22         3\n",
      "           1       0.50      0.29      0.36         7\n",
      "           2       0.67      0.50      0.57         4\n",
      "           3       0.92      1.00      0.96        12\n",
      "\n",
      "    accuracy                           0.65        26\n",
      "   macro avg       0.56      0.53      0.53        26\n",
      "weighted avg       0.68      0.65      0.65        26\n",
      "\n",
      "\n",
      "Confusion Matrix\n",
      "\n",
      "[[ 1  1  1  0]\n",
      " [ 4  2  0  1]\n",
      " [ 1  1  2  0]\n",
      " [ 0  0  0 12]] \n",
      "\n",
      "Accuracy : 0.65\n",
      "F-Score : 0.65\n",
      "AUC: 0.17\n"
     ]
    }
   ],
   "source": [
    "from sklearn.neighbors import KNeighborsClassifier\n",
    "knn = KNeighborsClassifier(n_neighbors=43, weights='distance')\n",
    "# Train Decision Tree Classifer\n",
    "knn = knn.fit(X_train,y_train)\n",
    "#Predict the response for test dataset\n",
    "y_pred= knn.predict(X_test)\n",
    "print( '\\nClassification report\\n' )\n",
    "print(classification_report(y_test, y_pred))\n",
    "print( '\\nConfusion Matrix\\n' )\n",
    "print(confusion_matrix(y_test, y_pred),'\\n')\n",
    "print('Accuracy :','{:.2f}'.format(accuracy_score(y_test, y_pred)))\n",
    "print('F-Score :','{:.2f}'.format(f1_score(y_test, y_pred, average='weighted')))\n",
    "fpr, tpr, thresholds = metrics.roc_curve(y_test, y_pred, pos_label=1)\n",
    "print('AUC:','{:.2f}'.format(metrics.auc(fpr, tpr)))"
   ]
  },
  {
   "cell_type": "code",
   "execution_count": 65,
   "metadata": {},
   "outputs": [
    {
     "name": "stdout",
     "output_type": "stream",
     "text": [
      "\n",
      "Classification report\n",
      "\n",
      "              precision    recall  f1-score   support\n",
      "\n",
      "           0       0.50      0.33      0.40         3\n",
      "           1       0.58      1.00      0.74         7\n",
      "           2       0.00      0.00      0.00         4\n",
      "           3       1.00      1.00      1.00        12\n",
      "\n",
      "    accuracy                           0.77        26\n",
      "   macro avg       0.52      0.58      0.53        26\n",
      "weighted avg       0.68      0.77      0.71        26\n",
      "\n",
      "\n",
      "Confusion Matrix\n",
      "\n",
      "[[ 1  2  0  0]\n",
      " [ 0  7  0  0]\n",
      " [ 1  3  0  0]\n",
      " [ 0  0  0 12]] \n",
      "\n",
      "Accuracy : 0.77\n",
      "F-Score : 0.71\n",
      "AUC: 0.24\n"
     ]
    }
   ],
   "source": [
    "from sklearn.naive_bayes import GaussianNB\n",
    "nb=GaussianNB()\n",
    "# Train Decision Tree Classifer\n",
    "nb= nb.fit(X_train,y_train)\n",
    "#Predict the response for test dataset\n",
    "y_pred= nb.predict(X_test)\n",
    "print( '\\nClassification report\\n' )\n",
    "print(classification_report(y_test, y_pred))\n",
    "print( '\\nConfusion Matrix\\n' )\n",
    "print(confusion_matrix(y_test, y_pred),'\\n')\n",
    "print('Accuracy :','{:.2f}'.format(accuracy_score(y_test, y_pred)))\n",
    "print('F-Score :','{:.2f}'.format(f1_score(y_test, y_pred, average='weighted')))\n",
    "fpr, tpr, thresholds = metrics.roc_curve(y_test, y_pred, pos_label=1)\n",
    "print('AUC:','{:.2f}'.format(metrics.auc(fpr, tpr)))"
   ]
  },
  {
   "cell_type": "code",
   "execution_count": 66,
   "metadata": {},
   "outputs": [
    {
     "name": "stdout",
     "output_type": "stream",
     "text": [
      "\n",
      "Classification report\n",
      "\n",
      "              precision    recall  f1-score   support\n",
      "\n",
      "           0       1.00      1.00      1.00         3\n",
      "           1       0.88      1.00      0.93         7\n",
      "           2       1.00      0.75      0.86         4\n",
      "           3       1.00      1.00      1.00        12\n",
      "\n",
      "    accuracy                           0.96        26\n",
      "   macro avg       0.97      0.94      0.95        26\n",
      "weighted avg       0.97      0.96      0.96        26\n",
      "\n",
      "\n",
      "Confusion Matrix\n",
      "\n",
      "[[ 3  0  0  0]\n",
      " [ 0  7  0  0]\n",
      " [ 0  1  3  0]\n",
      " [ 0  0  0 12]] \n",
      "\n",
      "Accuracy : 0.96\n",
      "F-Score : 0.96\n",
      "AUC: 0.18\n"
     ]
    }
   ],
   "source": [
    "from sklearn.svm import SVC\n",
    "import warnings\n",
    "warnings.filterwarnings('ignore')\n",
    "c_SVC = np.logspace(start = 0, stop = 10, num = 100, base = 2 , dtype = 'float64')\n",
    "param_grid_S = {'C': c_SVC}\n",
    "clf_SVC = SVC(C=100.0, kernel='linear', degree=3, gamma='auto', coef0=0.0, shrinking=True, \n",
    "          probability=False, tol=0.001, cache_size=200, class_weight=None, \n",
    "          verbose=0, max_iter=-1, decision_function_shape=\"ovr\", random_state = 0)\n",
    "svc=clf_SVC.fit(X_train,y_train)\n",
    "y_pred= svc.predict(X_test)\n",
    "print( '\\nClassification report\\n' )\n",
    "print(classification_report(y_test, y_pred))\n",
    "print( '\\nConfusion Matrix\\n' )\n",
    "print(confusion_matrix(y_test, y_pred),'\\n')\n",
    "print('Accuracy :','{:.2f}'.format(accuracy_score(y_test, y_pred)))\n",
    "print('F-Score :','{:.2f}'.format(f1_score(y_test, y_pred, average='weighted')))\n",
    "fpr, tpr, thresholds = metrics.roc_curve(y_test, y_pred, pos_label=1)\n",
    "print('AUC:','{:.2f}'.format(metrics.auc(fpr, tpr)))"
   ]
  },
  {
   "cell_type": "code",
   "execution_count": 67,
   "metadata": {},
   "outputs": [
    {
     "name": "stdout",
     "output_type": "stream",
     "text": [
      "\n",
      "Classification report\n",
      "\n",
      "              precision    recall  f1-score   support\n",
      "\n",
      "           0       1.00      1.00      1.00         3\n",
      "           1       0.88      1.00      0.93         7\n",
      "           2       1.00      0.75      0.86         4\n",
      "           3       1.00      1.00      1.00        12\n",
      "\n",
      "    accuracy                           0.96        26\n",
      "   macro avg       0.97      0.94      0.95        26\n",
      "weighted avg       0.97      0.96      0.96        26\n",
      "\n",
      "\n",
      "Confusion Matrix\n",
      "\n",
      "[[ 3  0  0  0]\n",
      " [ 0  7  0  0]\n",
      " [ 0  1  3  0]\n",
      " [ 0  0  0 12]] \n",
      "\n",
      "Accuracy : 0.96\n",
      "F-Score : 0.96\n",
      "AUC: 0.18\n"
     ]
    }
   ],
   "source": [
    "from sklearn.ensemble import RandomForestClassifier\n",
    "rf= RandomForestClassifier (n_estimators=100,random_state=0)\n",
    "rf= rf.fit(X_train, y_train)\n",
    "y_pred= rf.predict(X_test)\n",
    "print( '\\nClassification report\\n' )\n",
    "print(classification_report(y_test, y_pred))\n",
    "print( '\\nConfusion Matrix\\n' )\n",
    "print(confusion_matrix(y_test, y_pred),'\\n')\n",
    "print('Accuracy :','{:.2f}'.format(accuracy_score(y_test, y_pred)))\n",
    "print('F-Score :','{:.2f}'.format(f1_score(y_test, y_pred, average='weighted')))\n",
    "fpr, tpr, thresholds = metrics.roc_curve(y_test, y_pred, pos_label=1)\n",
    "print('AUC:','{:.2f}'.format(metrics.auc(fpr, tpr)))"
   ]
  },
  {
   "cell_type": "code",
   "execution_count": 68,
   "metadata": {},
   "outputs": [
    {
     "name": "stdout",
     "output_type": "stream",
     "text": [
      "\n",
      "Classification report\n",
      "\n",
      "              precision    recall  f1-score   support\n",
      "\n",
      "           0       1.00      1.00      1.00         3\n",
      "           1       0.88      1.00      0.93         7\n",
      "           2       1.00      0.75      0.86         4\n",
      "           3       1.00      1.00      1.00        12\n",
      "\n",
      "    accuracy                           0.96        26\n",
      "   macro avg       0.97      0.94      0.95        26\n",
      "weighted avg       0.97      0.96      0.96        26\n",
      "\n",
      "\n",
      "Confusion Matrix\n",
      "\n",
      "[[ 3  0  0  0]\n",
      " [ 0  7  0  0]\n",
      " [ 0  1  3  0]\n",
      " [ 0  0  0 12]] \n",
      "\n",
      "Accuracy : 0.96\n",
      "F-Score : 0.96\n",
      "AUC: 0.18\n"
     ]
    }
   ],
   "source": [
    "from sklearn.linear_model import LogisticRegression\n",
    "rf = LogisticRegression(random_state=0)\n",
    "rf= rf.fit(X_train, y_train)\n",
    "y_pred= rf.predict(X_test)\n",
    "print( '\\nClassification report\\n' )\n",
    "print(classification_report(y_test, y_pred))\n",
    "print( '\\nConfusion Matrix\\n' )\n",
    "print(confusion_matrix(y_test, y_pred),'\\n')\n",
    "print('Accuracy :','{:.2f}'.format(accuracy_score(y_test, y_pred)))\n",
    "print('F-Score :','{:.2f}'.format(f1_score(y_test, y_pred, average='weighted')))\n",
    "fpr, tpr, thresholds = metrics.roc_curve(y_test, y_pred, pos_label=1)\n",
    "print('AUC:','{:.2f}'.format(metrics.auc(fpr, tpr)))"
   ]
  }
 ],
 "metadata": {
  "interpreter": {
   "hash": "916dbcbb3f70747c44a77c7bcd40155683ae19c65e1c03b4aa3499c5328201f1"
  },
  "kernelspec": {
   "display_name": "Python 3.8.10 64-bit",
   "name": "python3"
  },
  "language_info": {
   "codemirror_mode": {
    "name": "ipython",
    "version": 3
   },
   "file_extension": ".py",
   "mimetype": "text/x-python",
   "name": "python",
   "nbconvert_exporter": "python",
   "pygments_lexer": "ipython3",
   "version": "3.8.10"
  }
 },
 "nbformat": 4,
 "nbformat_minor": 5
}
